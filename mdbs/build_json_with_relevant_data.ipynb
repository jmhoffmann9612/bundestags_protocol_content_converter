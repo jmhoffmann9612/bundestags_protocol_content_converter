{
 "cells": [
  {
   "cell_type": "code",
   "execution_count": 1,
   "metadata": {},
   "outputs": [],
   "source": [
    "import xml.etree.ElementTree as ET\n",
    "import json"
   ]
  },
  {
   "cell_type": "code",
   "execution_count": 2,
   "metadata": {},
   "outputs": [],
   "source": [
    "tree = ET.parse(\"MDB_STAMMDATEN.XML\")\n",
    "root = tree.getroot()"
   ]
  },
  {
   "cell_type": "code",
   "execution_count": 3,
   "metadata": {},
   "outputs": [],
   "source": [
    "mdb_list = root.findall(\"MDB\")"
   ]
  },
  {
   "cell_type": "code",
   "execution_count": 4,
   "metadata": {},
   "outputs": [],
   "source": [
    "mdb_relevant_data = {}\n",
    "\n",
    "for mdb in mdb_list:\n",
    "    mdb_id = mdb.find(\"ID\").text\n",
    "    mdb_relevant_data[mdb_id] = {}\n",
    "    mdb_relevant_data[mdb_id][\"nachname\"] = mdb.find(\"NAMEN\").find(\"NAME\").find(\"NACHNAME\").text\n",
    "    mdb_relevant_data[mdb_id][\"vorname\"] = mdb.find(\"NAMEN\").find(\"NAME\").find(\"VORNAME\").text\n",
    "    mdb_relevant_data[mdb_id][\"anrede_titel\"] = mdb.find(\"NAMEN\").find(\"NAME\").find(\"ANREDE_TITEL\").text\n",
    "    mdb_relevant_data[mdb_id][\"praefix\"] = mdb.find(\"NAMEN\").find(\"NAME\").find(\"PRAEFIX\").text\n",
    "    mdb_relevant_data[mdb_id][\"ortszusatz\"] = mdb.find(\"NAMEN\").find(\"NAME\").find(\"ORTSZUSATZ\").text\n",
    "    mdb_relevant_data[mdb_id][\"partei\"] = mdb.find(\"BIOGRAFISCHE_ANGABEN\").find(\"PARTEI_KURZ\").text"
   ]
  },
  {
   "cell_type": "code",
   "execution_count": 5,
   "metadata": {},
   "outputs": [],
   "source": [
    "with open(\"mdb_relevant_data.json\", \"w\") as f:\n",
    "    json.dump(mdb_relevant_data, f)"
   ]
  }
 ],
 "metadata": {
  "interpreter": {
   "hash": "76d3551c65757da9c5569b6354034eda85c707122f0c133886bc9c6a48c10b9c"
  },
  "kernelspec": {
   "display_name": "Python 3.9.7 ('base')",
   "language": "python",
   "name": "python3"
  },
  "language_info": {
   "codemirror_mode": {
    "name": "ipython",
    "version": 3
   },
   "file_extension": ".py",
   "mimetype": "text/x-python",
   "name": "python",
   "nbconvert_exporter": "python",
   "pygments_lexer": "ipython3",
   "version": "3.9.7"
  },
  "orig_nbformat": 4
 },
 "nbformat": 4,
 "nbformat_minor": 2
}
