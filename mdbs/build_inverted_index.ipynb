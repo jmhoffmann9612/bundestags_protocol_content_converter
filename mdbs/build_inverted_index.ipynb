{
 "cells": [
  {
   "cell_type": "code",
   "execution_count": 1,
   "metadata": {},
   "outputs": [],
   "source": [
    "import xml.etree.ElementTree as ET\n",
    "import json"
   ]
  },
  {
   "cell_type": "code",
   "execution_count": 2,
   "metadata": {},
   "outputs": [],
   "source": [
    "tree = ET.parse(\"MDB_STAMMDATEN.XML\")\n",
    "root = tree.getroot()"
   ]
  },
  {
   "cell_type": "code",
   "execution_count": 3,
   "metadata": {},
   "outputs": [],
   "source": [
    "mdb_list = root.findall(\"MDB\")"
   ]
  },
  {
   "cell_type": "code",
   "execution_count": 6,
   "metadata": {},
   "outputs": [
    {
     "name": "stdout",
     "output_type": "stream",
     "text": [
      "Duplicate: Heinrich Müller\n",
      "|---> New id:11001552\n",
      "|---> Old id:11001551\n",
      "Duplicate: Karl Müller\n",
      "|---> New id:11001559\n",
      "|---> Old id:11001558\n",
      "Duplicate: Rudolf Müller\n",
      "|---> New id:11001565\n",
      "|---> Old id:11001564\n",
      "Duplicate: Christian Schmidt\n",
      "|---> New id:11002003\n",
      "|---> Old id:11002002\n",
      "Duplicate: Manfred Schmidt\n",
      "|---> New id:11002012\n",
      "|---> Old id:11002011\n",
      "Duplicate: Wilhelm Schmidt\n",
      "|---> New id:11002022\n",
      "|---> Old id:11002021\n",
      "Duplicate: Peter Friedrich\n",
      "|---> New id:11003754\n",
      "|---> Old id:11003122\n",
      "Duplicate: Alois Rainer\n",
      "|---> New id:11004384\n",
      "|---> Old id:11001769\n",
      "Duplicate: Dagmar Schmidt\n",
      "|---> New id:11004401\n",
      "|---> Old id:11002780\n",
      "Duplicate: Michael Müller\n",
      "|---> New id:11005161\n",
      "|---> Old id:11001561\n"
     ]
    }
   ],
   "source": [
    "mdb_inverted_index = {}\n",
    "\n",
    "for mdb in mdb_list:\n",
    "    id_ = mdb.find(\"ID\").text\n",
    "    name_el = (mdb.find(\"NAMEN\").find(\"NAME\"))\n",
    "    nachname = name_el.find(\"NACHNAME\").text\n",
    "    vorname = name_el.find(\"VORNAME\").text\n",
    "    anrede_titel = name_el.find(\"ANREDE_TITEL\").text\n",
    "    if anrede_titel is None:\n",
    "        anrede_titel = \"\"\n",
    "    nameszusatz = name_el.find(\"PRAEFIX\").text\n",
    "    if nameszusatz is None:\n",
    "        nameszusatz = \"\"\n",
    "    full_name = anrede_titel + \" \" + vorname + \" \" + nameszusatz + \" \" + nachname\n",
    "    full_name = \" \".join(full_name.split())\n",
    "    if full_name in mdb_inverted_index:\n",
    "        print(\"Duplicate: \" + full_name)\n",
    "        print(\"|---> New id:\" + id_)\n",
    "        print(\"|---> Old id:\" + mdb_inverted_index[full_name])\n",
    "        # raise NameError(\"Duplicate name: \" + full_name)\n",
    "    mdb_inverted_index[full_name] = id_"
   ]
  },
  {
   "cell_type": "code",
   "execution_count": 5,
   "metadata": {},
   "outputs": [],
   "source": [
    "with open(\"mdb_inverted_index.json\", \"w\") as f:\n",
    "    json.dump(mdb_inverted_index, f)"
   ]
  }
 ],
 "metadata": {
  "interpreter": {
   "hash": "2e405f25e952cb2a46fdbcfd9aa5c664f2c5bb3d1fc84b78a033dcfc2d71cc1c"
  },
  "kernelspec": {
   "display_name": "Python 3.9.1 64-bit",
   "language": "python",
   "name": "python3"
  },
  "language_info": {
   "codemirror_mode": {
    "name": "ipython",
    "version": 3
   },
   "file_extension": ".py",
   "mimetype": "text/x-python",
   "name": "python",
   "nbconvert_exporter": "python",
   "pygments_lexer": "ipython3",
   "version": "3.9.7"
  },
  "orig_nbformat": 4
 },
 "nbformat": 4,
 "nbformat_minor": 2
}
